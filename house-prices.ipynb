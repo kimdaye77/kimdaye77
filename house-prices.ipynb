{
 "cells": [
  {
   "cell_type": "markdown",
   "id": "bee25895",
   "metadata": {
    "papermill": {
     "duration": 0.002574,
     "end_time": "2022-10-03T15:46:44.941495",
     "exception": false,
     "start_time": "2022-10-03T15:46:44.938921",
     "status": "completed"
    },
    "tags": []
   },
   "source": [
    "# Data Preprocessing"
   ]
  },
  {
   "cell_type": "code",
   "execution_count": null,
   "id": "f47f9f81",
   "metadata": {
    "papermill": {
     "duration": 0.001293,
     "end_time": "2022-10-03T15:46:44.947006",
     "exception": false,
     "start_time": "2022-10-03T15:46:44.945713",
     "status": "completed"
    },
    "tags": []
   },
   "outputs": [],
   "source": []
  }
 ],
 "metadata": {
  "kernelspec": {
   "display_name": "Python 3",
   "language": "python",
   "name": "python3"
  },
  "language_info": {
   "codemirror_mode": {
    "name": "ipython",
    "version": 3
   },
   "file_extension": ".py",
   "mimetype": "text/x-python",
   "name": "python",
   "nbconvert_exporter": "python",
   "pygments_lexer": "ipython3",
   "version": "3.7.12"
  },
  "papermill": {
   "default_parameters": {},
   "duration": 10.068451,
   "end_time": "2022-10-03T15:46:45.673889",
   "environment_variables": {},
   "exception": null,
   "input_path": "__notebook__.ipynb",
   "output_path": "__notebook__.ipynb",
   "parameters": {},
   "start_time": "2022-10-03T15:46:35.605438",
   "version": "2.3.4"
  }
 },
 "nbformat": 4,
 "nbformat_minor": 5
}
